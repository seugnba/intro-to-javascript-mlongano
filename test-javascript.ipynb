{
 "cells": [
  {
   "cell_type": "code",
   "execution_count": null,
   "metadata": {},
   "outputs": [
    {
     "ename": "",
     "evalue": "",
     "output_type": "error",
     "traceback": [
      "\u001b[1;31mNon è stato possibile avviare il kernel. \n",
      "\u001b[1;31m============================================================\n",
      "\u001b[1;31mDeno has panicked. This is a bug in Deno. Please report this\n",
      "\u001b[1;31mat https://github.com/denoland/deno/issues/new.\n",
      "\u001b[1;31mIf you can reliably reproduce this panic, include the\n",
      "\u001b[1;31mreproduction steps and re-run with the RUST_BACKTRACE=1 env\n",
      "\u001b[1;31mvar set and include the backtrace in your report.\n",
      "\u001b[1;31m\n",
      "\u001b[1;31mPlatform: linux x86_64\n",
      "\u001b[1;31mVersion: 1.39.4\n",
      "\u001b[1;31mArgs: [\"/root/.deno/bin/deno\", \"--unstable\", \"jupyter\", \"--kernel\", \"--conn\", \"/root/.local/share/jupyter/runtime/kernel-v2-353HLbhPwUoNNoJ.json\"]\n",
      "\u001b[1;31m\n",
      "\u001b[1;31mthread 'main' panicked at cli/util/logger.rs:79:5:\n",
      "\u001b[1;31mCould not install logger.: SetLoggerError(())\n",
      "\u001b[1;31mnote: run with `RUST_BACKTRACE=1` environment variable to display a backtrace. \n",
      "\u001b[1;31mPer ulteriori dettagli, visualizzare Jupyter <a href='command:jupyter.viewOutput'>log</a>."
     ]
    }
   ],
   "source": [
    "console.log('Hello, World!');"
   ]
  }
 ],
 "metadata": {
  "kernelspec": {
   "display_name": "Deno",
   "language": "typescript",
   "name": "deno"
  },
  "language_info": {
   "file_extension": ".ts",
   "mimetype": "text/x.typescript",
   "name": "typescript",
   "nb_converter": "script",
   "pygments_lexer": "typescript",
   "version": "5.3.3"
  }
 },
 "nbformat": 4,
 "nbformat_minor": 4
}
